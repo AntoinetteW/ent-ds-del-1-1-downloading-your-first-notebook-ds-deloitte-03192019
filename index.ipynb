{
 "cells": [
  {
   "cell_type": "markdown",
   "metadata": {},
   "source": [
    "# Downloading Your First Jupyter Notebook - Lab\n",
    "\n",
    "\n",
    "## Introduction\n",
    "In this lesson, we'll practice forking and cloning a lesson and then opening and working with a Jupyter Notebook - the main tool you will be using for writing Python scripts.\n",
    "\n",
    "## Objectives\n",
    "You will be able to:\n",
    "* Fork (copy) and clone (download) projects from GitHub to work on as part of this course\n",
    "* Open a Jupyter Notebook from your terminal window\n",
    "* Make changes to, and run the code in a Jupyter Notebook\n",
    "* Save your changes and upload them to GitHub"
   ]
  },
  {
   "cell_type": "markdown",
   "metadata": {},
   "source": [
    "## Working Locally\n",
    "You might have noticed that the title of this lesson includes \"- Lab\". That means you are going to be working on this project locally - on your laptop - not just reading it via Learn in your browser online.\n",
    "\n",
    "Remember the flow for downloading a lesson? First you need to fork it (make your own copy on GitHub), then you clone it (downloading a copy from GitHub to your local laptop). Once you have the files on your computer, you can then open the Jupyter Notebook file locally and start working with it. Let's go through the process together.\n",
    "\n",
    "### Forking the Lesson\n",
    "* Start by clicking on the GitHub icon on the Learn page for this lesson\n",
    "* That will take you to GitHub. Click on the \"Fork\" button in the top right to make your own copy of this lesson on GitHub\n",
    "* Once you've forked,\n"
   ]
  },
  {
   "cell_type": "markdown",
   "metadata": {},
   "source": [
    "## Summary\n",
    "\n",
    "Congratulations! In this lesson, you practiced forking and cloning a repository, you learned how to open a Jupyter Notebook file from the terminal, and how to save your changes to disk, add them to Git, and upload them to GitHub so you have a backup of your work in case your laptop dies or you need to access it from another computer.\n"
   ]
  }
 ],
 "metadata": {
  "kernelspec": {
   "display_name": "Python 3",
   "language": "python",
   "name": "python3"
  },
  "language_info": {
   "codemirror_mode": {
    "name": "ipython",
    "version": 3
   },
   "file_extension": ".py",
   "mimetype": "text/x-python",
   "name": "python",
   "nbconvert_exporter": "python",
   "pygments_lexer": "ipython3",
   "version": "3.6.6"
  }
 },
 "nbformat": 4,
 "nbformat_minor": 2
}
